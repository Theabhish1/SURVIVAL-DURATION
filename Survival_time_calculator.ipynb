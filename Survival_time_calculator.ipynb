{
  "nbformat": 4,
  "nbformat_minor": 0,
  "metadata": {
    "colab": {
      "provenance": []
    },
    "kernelspec": {
      "name": "python3",
      "display_name": "Python 3"
    },
    "language_info": {
      "name": "python"
    }
  },
  "cells": [
    {
      "cell_type": "code",
      "execution_count": 3,
      "metadata": {
        "colab": {
          "base_uri": "https://localhost:8080/"
        },
        "id": "F-98bFih9rdy",
        "outputId": "22ca7374-e48a-43f7-aba6-b695831586aa"
      },
      "outputs": [
        {
          "output_type": "stream",
          "name": "stdout",
          "text": [
            "Enter your birthdate (YYYY-MM-DD): 2001-10-13\n",
            "You have survived for approximately 22 years and 0 months.\n",
            "You have survived for approximately  264 months.\n",
            "You have survived for approximately 1148 weeks.\n",
            "You have survived for approximately 8040 days.\n",
            "You have survived for approximately 192964 hours.\n",
            "You have survived for approximately 11577897 minutes.\n",
            "You have survived for approximately 694673822 seconds.\n"
          ]
        }
      ],
      "source": [
        "from datetime import datetime\n",
        "\n",
        "# Input your birthdate in the format 'YYYY-MM-DD'\n",
        "birthdate_str = input(\"Enter your birthdate (YYYY-MM-DD): \")\n",
        "\n",
        "# Convert the birthdate string to a datetime object\n",
        "birthdate = datetime.strptime(birthdate_str, \"%Y-%m-%d\")  #strptime is used to convert a string representing a date and time in a specific format into a datetime object.\n",
        "\n",
        "# Get the current date\n",
        "current_date = datetime.now()\n",
        "\n",
        "# Calculate the difference between the current date and the birthdate\n",
        "age = current_date - birthdate\n",
        "\n",
        "# Now we will use Mathematical Formulas to calculate.\n",
        "years_survived = age.days // 365   #// --> is used for floor divisions\n",
        "months_survived = (age.days % 365) // 30  # % operator is used to find remainder\n",
        "weeks_survived = age.days // 7\n",
        "days_survived = age.days\n",
        "hours_survived = age.days * 24 + age.seconds // 3600\n",
        "minutes_survived = age.days * 24 * 60 + age.seconds // 60\n",
        "seconds_survived = age.days * 24 * 60 * 60 + age.seconds\n",
        "\n",
        "\n",
        "\n",
        "month_survive=years_survived*12\n",
        "print(f\"You have survived for approximately {years_survived} years and {months_survived} months.\")\n",
        "print(f\"You have survived for approximately  {month_survive} months.\")\n",
        "print(f\"You have survived for approximately {weeks_survived} weeks.\")\n",
        "print(f\"You have survived for approximately {days_survived} days.\")\n",
        "print(f\"You have survived for approximately {hours_survived} hours.\")\n",
        "print(f\"You have survived for approximately {minutes_survived} minutes.\")\n",
        "print(f\"You have survived for approximately {seconds_survived} seconds.\")"
      ]
    },
    {
      "cell_type": "code",
      "source": [],
      "metadata": {
        "id": "uOs_wzz9KEin"
      },
      "execution_count": null,
      "outputs": []
    },
    {
      "cell_type": "code",
      "source": [],
      "metadata": {
        "id": "qM_3I1Ui_oGi"
      },
      "execution_count": null,
      "outputs": []
    }
  ]
}